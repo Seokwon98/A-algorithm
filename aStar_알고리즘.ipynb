{
  "nbformat": 4,
  "nbformat_minor": 0,
  "metadata": {
    "colab": {
      "provenance": []
    },
    "kernelspec": {
      "name": "python3",
      "display_name": "Python 3"
    },
    "language_info": {
      "name": "python"
    }
  },
  "cells": [
    {
      "cell_type": "markdown",
      "source": [
        "#1. spark 세팅"
      ],
      "metadata": {
        "id": "FqfYrGCfK3gv"
      }
    },
    {
      "cell_type": "code",
      "execution_count": null,
      "metadata": {
        "colab": {
          "base_uri": "https://localhost:8080/"
        },
        "id": "C3xVTueMpiPA",
        "outputId": "b087c6dd-d82e-42f6-e2af-1506398fec9e"
      },
      "outputs": [
        {
          "output_type": "stream",
          "name": "stdout",
          "text": [
            "Looking in indexes: https://pypi.org/simple, https://us-python.pkg.dev/colab-wheels/public/simple/\n",
            "Collecting pyspark\n",
            "  Downloading pyspark-3.3.1.tar.gz (281.4 MB)\n",
            "\u001b[K     |████████████████████████████████| 281.4 MB 46 kB/s \n",
            "\u001b[?25hCollecting py4j==0.10.9.5\n",
            "  Downloading py4j-0.10.9.5-py2.py3-none-any.whl (199 kB)\n",
            "\u001b[K     |████████████████████████████████| 199 kB 52.4 MB/s \n",
            "\u001b[?25hBuilding wheels for collected packages: pyspark\n",
            "  Building wheel for pyspark (setup.py) ... \u001b[?25l\u001b[?25hdone\n",
            "  Created wheel for pyspark: filename=pyspark-3.3.1-py2.py3-none-any.whl size=281845514 sha256=1a5d3cbec52d2a070479a7f626a7d8390d522ce64dc9570f10086ed01b082ace\n",
            "  Stored in directory: /root/.cache/pip/wheels/42/59/f5/79a5bf931714dcd201b26025347785f087370a10a3329a899c\n",
            "Successfully built pyspark\n",
            "Installing collected packages: py4j, pyspark\n",
            "Successfully installed py4j-0.10.9.5 pyspark-3.3.1\n",
            "Looking in indexes: https://pypi.org/simple, https://us-python.pkg.dev/colab-wheels/public/simple/\n",
            "Collecting graphframes\n",
            "  Downloading graphframes-0.6-py2.py3-none-any.whl (18 kB)\n",
            "Requirement already satisfied: numpy in /usr/local/lib/python3.7/dist-packages (from graphframes) (1.21.6)\n",
            "Collecting nose\n",
            "  Downloading nose-1.3.7-py3-none-any.whl (154 kB)\n",
            "\u001b[K     |████████████████████████████████| 154 kB 7.5 MB/s \n",
            "\u001b[?25hInstalling collected packages: nose, graphframes\n",
            "Successfully installed graphframes-0.6 nose-1.3.7\n"
          ]
        }
      ],
      "source": [
        "!pip install pyspark\n",
        "!pip install graphframes"
      ]
    },
    {
      "cell_type": "code",
      "source": [
        "!curl -L -o \"/usr/local/lib/python3.6/dist-packages/pyspark/jars/graphframes-0.8.0-spark2.4-s_2.11.jar\" http://dl.bintray.com/spark-packages/maven/graphframes/graphframes/0.8.0-spark2.4-s_2.11/graphframes-0.8.0-spark2.4-s_2.11.jar"
      ],
      "metadata": {
        "colab": {
          "base_uri": "https://localhost:8080/"
        },
        "id": "aDMHfPTcpuJu",
        "outputId": "a6ec092f-f443-458a-d531-1f5ae3590fe4"
      },
      "execution_count": null,
      "outputs": [
        {
          "output_type": "stream",
          "name": "stdout",
          "text": [
            "  % Total    % Received % Xferd  Average Speed   Time    Time     Time  Current\n",
            "                                 Dload  Upload   Total   Spent    Left  Speed\n",
            "\r  0     0    0     0    0     0      0      0 --:--:-- --:--:-- --:--:--     0Warning: Failed to create the file \n",
            "Warning: /usr/local/lib/python3.6/dist-packages/pyspark/jars/graphframes-0.8.0-\n",
            "Warning: spark2.4-s_2.11.jar: No such file or directory\n",
            "\r100   166  100   166    0     0   1844      0 --:--:-- --:--:-- --:--:--  1844\n",
            "curl: (23) Failed writing body (0 != 166)\n"
          ]
        }
      ]
    },
    {
      "cell_type": "code",
      "source": [
        "!apt-get install openjdk-8-jdk-headless -qq"
      ],
      "metadata": {
        "colab": {
          "base_uri": "https://localhost:8080/"
        },
        "id": "CjqrMKjQpvQQ",
        "outputId": "fa2ada4f-b8fb-49f2-acae-8e95ec6e5783"
      },
      "execution_count": null,
      "outputs": [
        {
          "output_type": "stream",
          "name": "stdout",
          "text": [
            "Selecting previously unselected package openjdk-8-jre-headless:amd64.\n",
            "(Reading database ... 123942 files and directories currently installed.)\n",
            "Preparing to unpack .../openjdk-8-jre-headless_8u352-ga-1~18.04_amd64.deb ...\n",
            "Unpacking openjdk-8-jre-headless:amd64 (8u352-ga-1~18.04) ...\n",
            "Selecting previously unselected package openjdk-8-jdk-headless:amd64.\n",
            "Preparing to unpack .../openjdk-8-jdk-headless_8u352-ga-1~18.04_amd64.deb ...\n",
            "Unpacking openjdk-8-jdk-headless:amd64 (8u352-ga-1~18.04) ...\n",
            "Setting up openjdk-8-jre-headless:amd64 (8u352-ga-1~18.04) ...\n",
            "update-alternatives: using /usr/lib/jvm/java-8-openjdk-amd64/jre/bin/orbd to provide /usr/bin/orbd (orbd) in auto mode\n",
            "update-alternatives: using /usr/lib/jvm/java-8-openjdk-amd64/jre/bin/servertool to provide /usr/bin/servertool (servertool) in auto mode\n",
            "update-alternatives: using /usr/lib/jvm/java-8-openjdk-amd64/jre/bin/tnameserv to provide /usr/bin/tnameserv (tnameserv) in auto mode\n",
            "Setting up openjdk-8-jdk-headless:amd64 (8u352-ga-1~18.04) ...\n",
            "update-alternatives: using /usr/lib/jvm/java-8-openjdk-amd64/bin/idlj to provide /usr/bin/idlj (idlj) in auto mode\n",
            "update-alternatives: using /usr/lib/jvm/java-8-openjdk-amd64/bin/wsimport to provide /usr/bin/wsimport (wsimport) in auto mode\n",
            "update-alternatives: using /usr/lib/jvm/java-8-openjdk-amd64/bin/jsadebugd to provide /usr/bin/jsadebugd (jsadebugd) in auto mode\n",
            "update-alternatives: using /usr/lib/jvm/java-8-openjdk-amd64/bin/native2ascii to provide /usr/bin/native2ascii (native2ascii) in auto mode\n",
            "update-alternatives: using /usr/lib/jvm/java-8-openjdk-amd64/bin/javah to provide /usr/bin/javah (javah) in auto mode\n",
            "update-alternatives: using /usr/lib/jvm/java-8-openjdk-amd64/bin/clhsdb to provide /usr/bin/clhsdb (clhsdb) in auto mode\n",
            "update-alternatives: using /usr/lib/jvm/java-8-openjdk-amd64/bin/xjc to provide /usr/bin/xjc (xjc) in auto mode\n",
            "update-alternatives: using /usr/lib/jvm/java-8-openjdk-amd64/bin/hsdb to provide /usr/bin/hsdb (hsdb) in auto mode\n",
            "update-alternatives: using /usr/lib/jvm/java-8-openjdk-amd64/bin/schemagen to provide /usr/bin/schemagen (schemagen) in auto mode\n",
            "update-alternatives: using /usr/lib/jvm/java-8-openjdk-amd64/bin/extcheck to provide /usr/bin/extcheck (extcheck) in auto mode\n",
            "update-alternatives: using /usr/lib/jvm/java-8-openjdk-amd64/bin/jhat to provide /usr/bin/jhat (jhat) in auto mode\n",
            "update-alternatives: using /usr/lib/jvm/java-8-openjdk-amd64/bin/wsgen to provide /usr/bin/wsgen (wsgen) in auto mode\n"
          ]
        }
      ]
    },
    {
      "cell_type": "code",
      "source": [
        "import pyspark\n",
        "from pyspark.sql import *\n",
        "import pyspark.sql.functions as F\n",
        "from pyspark.sql import column\n",
        "from pyspark import SparkContext, SparkConf\n",
        "from pyspark.sql import Row\n",
        "from pyspark.sql.functions import expr"
      ],
      "metadata": {
        "id": "HsrNvt3FpxZr"
      },
      "execution_count": null,
      "outputs": []
    },
    {
      "cell_type": "code",
      "source": [
        "spark = SparkSession.builder.master(\"local[*]\").config(\"spark.jars.packages\", \"graphframes:graphframes:0.8.2-spark3.2-s_2.12\").getOrCreate()\n",
        "sc = SparkContext.getOrCreate()"
      ],
      "metadata": {
        "id": "Zy74PH8opy6l"
      },
      "execution_count": null,
      "outputs": []
    },
    {
      "cell_type": "code",
      "source": [
        "from pyspark.sql.types import *\n",
        "from graphframes import *"
      ],
      "metadata": {
        "id": "KKfRzl8Cpzam"
      },
      "execution_count": null,
      "outputs": []
    },
    {
      "cell_type": "markdown",
      "source": [
        "#2. pyspark GraphFrame\n"
      ],
      "metadata": {
        "id": "DWsTDK-Up3oN"
      }
    },
    {
      "cell_type": "markdown",
      "source": [
        "## 2-1. 데이터 GraphFrame으로 불러오기"
      ],
      "metadata": {
        "id": "b8SV_KIjLarh"
      }
    },
    {
      "cell_type": "code",
      "source": [
        "def create_city_data():\n",
        "  node_fields = [\n",
        "      StructField(\"vertices\", StringType(), True),\n",
        "      StructField(\"id\", IntegerType(), True),\n",
        "      StructField(\"latitude\", IntegerType(), True),\n",
        "      StructField(\"longitude\", IntegerType(), True)\n",
        "  ]\n",
        "\n",
        "  nodes = spark.read.csv(\"USA-road-d.NY.co\",header=True, sep=' ', schema = StructType(node_fields))\n",
        "  nodes = nodes.filter(nodes.vertices == 'v')\n",
        "  nodes = nodes.drop(nodes.vertices)\n",
        "\n",
        "  rel_fields = [\n",
        "      StructField(\"arcs\", StringType(), True),\n",
        "      StructField(\"src\", IntegerType(), True),\n",
        "      StructField(\"dst\", IntegerType(), True),\n",
        "      StructField(\"cost\", DoubleType(), True)\n",
        "  ]\n",
        "\n",
        "  relationships = spark.read.csv(\"USA-road-d.NY.gr\", header=True, sep=' ', schema = StructType(rel_fields))\n",
        "  relationships = relationships.filter(relationships.arcs == 'a')\n",
        "  relationships = relationships.drop(relationships.arcs)\n",
        "\n",
        "  return GraphFrame(nodes,relationships)"
      ],
      "metadata": {
        "id": "-srZxZsdp0xS"
      },
      "execution_count": null,
      "outputs": []
    },
    {
      "cell_type": "code",
      "source": [
        "gf = create_city_data()"
      ],
      "metadata": {
        "colab": {
          "base_uri": "https://localhost:8080/"
        },
        "id": "JRTaglRQucqm",
        "outputId": "00f9d7a3-1c4a-4ee3-ae23-65f216b6021b"
      },
      "execution_count": null,
      "outputs": [
        {
          "output_type": "stream",
          "name": "stderr",
          "text": [
            "/usr/local/lib/python3.7/dist-packages/pyspark/sql/dataframe.py:149: UserWarning: DataFrame.sql_ctx is an internal property, and will be removed in future releases. Use DataFrame.sparkSession instead.\n",
            "  \"DataFrame.sql_ctx is an internal property, and will be removed \"\n"
          ]
        }
      ]
    },
    {
      "cell_type": "code",
      "source": [
        "gf.vertices.show()"
      ],
      "metadata": {
        "colab": {
          "base_uri": "https://localhost:8080/"
        },
        "id": "mdwZkvnIV0cn",
        "outputId": "baf8f53c-86ab-48cd-f479-7f7e04d97df9"
      },
      "execution_count": null,
      "outputs": [
        {
          "output_type": "stream",
          "name": "stdout",
          "text": [
            "+---+---------+---------+\n",
            "| id| latitude|longitude|\n",
            "+---+---------+---------+\n",
            "|  1|-73530767| 41085396|\n",
            "|  2|-73530538| 41086098|\n",
            "|  3|-73519366| 41048796|\n",
            "|  4|-73519377| 41048654|\n",
            "|  5|-73524567| 41093796|\n",
            "|  6|-73525490| 41093834|\n",
            "|  7|-73531927| 41110484|\n",
            "|  8|-73530106| 41110611|\n",
            "|  9|-73529341| 41125895|\n",
            "| 10|-73529746| 41127369|\n",
            "| 11|-73530583| 41125051|\n",
            "| 12|-73529763| 41085358|\n",
            "| 13|-73529834| 41086062|\n",
            "| 14|-73613384| 41065086|\n",
            "| 15|-73615019| 41065131|\n",
            "| 16|-73693133| 41058075|\n",
            "| 17|-73694273| 41059296|\n",
            "| 18|-73512230| 41287431|\n",
            "| 19|-73511896| 41286556|\n",
            "| 20|-73501634| 41286067|\n",
            "+---+---------+---------+\n",
            "only showing top 20 rows\n",
            "\n"
          ]
        }
      ]
    },
    {
      "cell_type": "code",
      "source": [
        "gf.edges.show()"
      ],
      "metadata": {
        "colab": {
          "base_uri": "https://localhost:8080/"
        },
        "id": "6dAu37S2V4mU",
        "outputId": "20c86312-f432-4720-a62d-5514406f5d71"
      },
      "execution_count": null,
      "outputs": [
        {
          "output_type": "stream",
          "name": "stdout",
          "text": [
            "+---+---+------+\n",
            "|src|dst|  cost|\n",
            "+---+---+------+\n",
            "|  1|  2| 803.0|\n",
            "|  2|  1| 803.0|\n",
            "|  3|  4| 158.0|\n",
            "|  4|  3| 158.0|\n",
            "|  5|  6| 774.0|\n",
            "|  6|  5| 774.0|\n",
            "|  7|  8|1531.0|\n",
            "|  8|  7|1531.0|\n",
            "|  9| 10|1673.0|\n",
            "| 10|  9|1673.0|\n",
            "|  9| 11|1400.0|\n",
            "| 11|  9|1400.0|\n",
            "|  1| 12| 842.0|\n",
            "| 12|  1| 842.0|\n",
            "|  2| 13| 591.0|\n",
            "| 13|  2| 591.0|\n",
            "| 14| 15|1371.0|\n",
            "| 15| 14|1371.0|\n",
            "| 16| 17|1659.0|\n",
            "| 17| 16|1659.0|\n",
            "+---+---+------+\n",
            "only showing top 20 rows\n",
            "\n"
          ]
        }
      ]
    },
    {
      "cell_type": "markdown",
      "source": [
        "## 2-2. GraphFrame을 통해 위치정보(위도,경도) 찾기"
      ],
      "metadata": {
        "id": "JLTIWQ28LpAY"
      }
    },
    {
      "cell_type": "code",
      "source": [
        "def node_position(id):\n",
        "  a = gf.vertices.filter(f'id == {id}')\n",
        "\n",
        "  return(a.first().latitude, a.first().longitude)"
      ],
      "metadata": {
        "id": "HQYm3v69uKWo"
      },
      "execution_count": null,
      "outputs": []
    },
    {
      "cell_type": "markdown",
      "source": [
        "## 2-3. GraphFrame을 통해 인접노드 찾기"
      ],
      "metadata": {
        "id": "MEbTFMFZL7e_"
      }
    },
    {
      "cell_type": "code",
      "source": [
        "def find_near_node(id):\n",
        "  a = gf.edges.filter(f'src == {id}')\n",
        "  return_data=[]\n",
        "\n",
        "  for i in a.collect():\n",
        "    return_data.append(i['dst'])\n",
        "\n",
        "  return return_data"
      ],
      "metadata": {
        "id": "zY2F3y1Hy04g"
      },
      "execution_count": null,
      "outputs": []
    },
    {
      "cell_type": "markdown",
      "source": [
        "## 2-4. GraphFrame을 통해 Gscore 거리 찾기"
      ],
      "metadata": {
        "id": "zpzIz8HZMHyN"
      }
    },
    {
      "cell_type": "code",
      "source": [
        "def get_g_score(src, dst):\n",
        "  a = gf.edges.filter(f'src == {src} AND dst == {dst}')\n",
        "  return(a.first()['cost'])"
      ],
      "metadata": {
        "id": "534DVxHl4LJ0"
      },
      "execution_count": null,
      "outputs": []
    },
    {
      "cell_type": "markdown",
      "source": [
        "#3. heuristic function\n"
      ],
      "metadata": {
        "id": "XU0uJpA6p-6w"
      }
    },
    {
      "cell_type": "markdown",
      "source": [
        "##3-1. 유클리드거리"
      ],
      "metadata": {
        "id": "25xrxkNPMXkq"
      }
    },
    {
      "cell_type": "code",
      "source": [
        "def euclidean_distance(pt1, pt2):\n",
        "  distance = 0\n",
        "\n",
        "  for i in range(len(pt1)):\n",
        "    distance += (pt1[i] - pt2[i]) ** 2\n",
        "\n",
        "  return round(distance ** 0.5, 2)"
      ],
      "metadata": {
        "id": "KLv5-DI-qQgB"
      },
      "execution_count": null,
      "outputs": []
    },
    {
      "cell_type": "markdown",
      "source": [
        "#4. Node"
      ],
      "metadata": {
        "id": "-jQJ_P6_rSHa"
      }
    },
    {
      "cell_type": "markdown",
      "source": [
        "##4-1. Node Class"
      ],
      "metadata": {
        "id": "kkLQYUNMMh0y"
      }
    },
    {
      "cell_type": "code",
      "source": [
        "class Node:\n",
        "    def __init__(self, parent=None, id=None):\n",
        "        self.parent = parent\n",
        "        self.id = id\n",
        "\n",
        "        self.g_score = 0\n",
        "        self.h_score = 0\n",
        "        self.f_score = 0\n",
        "\n",
        "    def __repr__(self):\n",
        "        return f\"{self.id}\"\n",
        "\n",
        "    def __eq__(self, other):\n",
        "      return self.id == other.id"
      ],
      "metadata": {
        "id": "cbCxvPevrVVH"
      },
      "execution_count": null,
      "outputs": []
    },
    {
      "cell_type": "markdown",
      "source": [
        "#5. aStar 알고리즘"
      ],
      "metadata": {
        "id": "SH9BltxOq3VU"
      }
    },
    {
      "cell_type": "code",
      "source": [
        "def a_star(origin, destination):\n",
        "  # 출발 노드와 도착 노드 초기화\n",
        "  origin_node = Node(None, origin)\n",
        "  dest_node = Node(None, destination)\n",
        "\n",
        "  open_list = []\n",
        "  closed_list =[]\n",
        "\n",
        "  open_list.append(origin_node)\n",
        "\n",
        "  while open_list:\n",
        "\n",
        "    current_node = open_list[0]\n",
        "    current_idx = 0\n",
        "\n",
        "    for index, item in enumerate(open_list):\n",
        "            if item.f_score < current_node.f_score:\n",
        "                current_node = item\n",
        "                current_idx = index\n",
        "\n",
        "    # open_list에서 제거하고 closed_list에 추가\n",
        "    open_list.pop(current_idx)\n",
        "    closed_list.append(current_node)\n",
        "\n",
        "    # 현재 노드가 목적지면 current.id 추가하고\n",
        "    # current의 부모로 이동\n",
        "    if current_node == dest_node:\n",
        "        path = []\n",
        "        current = current_node\n",
        "        while current is not None:\n",
        "            path.append(current.id)\n",
        "            current = current.parent\n",
        "        return path[::-1]  # reverse\n",
        "\n",
        "    children = []\n",
        "    # 인접한 노드 찾기\n",
        "    near_nodes = find_near_node(current_node.id)\n",
        "\n",
        "    for nodeid in near_nodes:\n",
        "      new_node = Node(current_node, nodeid)\n",
        "      children.append(new_node)\n",
        "\n",
        "    # 자식들 모두 loop\n",
        "    for child in children:\n",
        "      # 자식이 closedList에 있으면 continue\n",
        "      if child in closed_list:\n",
        "        continue\n",
        "\n",
        "      # f_score, g_score, h_score값 업데이트\n",
        "      child.g_score = current_node.g_score + get_g_score(current_node.id ,child.id)\n",
        "      child.h_score = euclidean_distance(node_position(child.id), node_position(dest_node.id))\n",
        "      child.f_score = child.g_score + child.h_score\n",
        "\n",
        "      # 자식이 open_list에 있으고, g_score 값이 더 크면 continue\n",
        "      if len([open_node for open_node in open_list\n",
        "              if child == open_node and child.g_score > open_node.g_score]) > 0:\n",
        "          continue\n",
        "\n",
        "      open_list.append(child)\n"
      ],
      "metadata": {
        "id": "kYdecFTXqXv1"
      },
      "execution_count": null,
      "outputs": []
    },
    {
      "cell_type": "code",
      "source": [
        "# 정답 예시\n",
        "# 출발노드 : 1,\n",
        "# 도착노드 : 10\n",
        "# 약 3분 소요\n",
        "a_star(1, 10)"
      ],
      "metadata": {
        "colab": {
          "base_uri": "https://localhost:8080/"
        },
        "id": "qVPWG_iIwLMb",
        "outputId": "32449f00-d848-4397-cc97-da8dda74c1a1"
      },
      "execution_count": null,
      "outputs": [
        {
          "output_type": "execute_result",
          "data": {
            "text/plain": [
              "[1,\n",
              " 1363,\n",
              " 1358,\n",
              " 1355,\n",
              " 1274,\n",
              " 1183,\n",
              " 1181,\n",
              " 1182,\n",
              " 1179,\n",
              " 1177,\n",
              " 1176,\n",
              " 1178,\n",
              " 1154,\n",
              " 1153,\n",
              " 1072,\n",
              " 1148,\n",
              " 7,\n",
              " 1147,\n",
              " 598,\n",
              " 596,\n",
              " 586,\n",
              " 587,\n",
              " 591,\n",
              " 590,\n",
              " 592,\n",
              " 588,\n",
              " 594,\n",
              " 603,\n",
              " 9,\n",
              " 10]"
            ]
          },
          "metadata": {},
          "execution_count": 20
        }
      ]
    },
    {
      "cell_type": "code",
      "source": [],
      "metadata": {
        "id": "3O6EsB5fFJO_"
      },
      "execution_count": null,
      "outputs": []
    }
  ]
}